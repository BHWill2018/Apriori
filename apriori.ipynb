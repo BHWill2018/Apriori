{
 "cells": [
  {
   "cell_type": "markdown",
   "metadata": {},
   "source": [
    "# 使用Apriori算法来发现频繁集"
   ]
  },
  {
   "cell_type": "code",
   "execution_count": 1,
   "metadata": {},
   "outputs": [],
   "source": [
    "def loadDataSet():#create a simple dataset for testing below functions\n",
    "\treturn [[1,3,4],[2,3,5],[1,2,3,5],[2,5]]\n",
    "\n",
    "#create candidate itemsets\n",
    "def createC1(dataSet):\n",
    "\tC1 = []\t\t\t\t\t\t#candidate itemset of size one 存储所有不重复的项值\n",
    "\tfor transaction in dataSet:\t#遍历数据集中的所有交易记录\n",
    "\t\tfor item in transaction:#遍历记录中的每一个项\n",
    "\t\t\tif not [item] in C1:#如果某个物品项没有在C1中出现，则将其添加到C1中\n",
    "\t\t\t\tC1.append([item])#add a list containing just one item\n",
    "\tC1.sort()\t\t\t\t\t#对大列表进行排序\n",
    "\treturn list(map(frozenset,C1))#将每个单元素列表映射到frozenset()，最后返回frozenset的列表\n",
    "\n",
    "#generate L1 from C1\n",
    "#Ck:a list of candidate sets\n",
    "def scanD(D, Ck, minSupport):\t#数据集、候选项集列表Ck，最小支持度\n",
    "\tssCnt = {}\t\t\t\t\t#empty dictionary\n",
    "\tfor tid in D:\t\t\t\t#go over all the transactions in the dataset\n",
    "\t\tfor can in Ck:\t\t\t#go over all the candidate sets in Ck\n",
    "\t\t\tif can.issubset(tid):\n",
    "\t\t\t\tif not can in ssCnt:\n",
    "\t\t\t\t\tssCnt[can] = 1\n",
    "\t\t\t\telse:\n",
    "\t\t\t\t\tssCnt[can] += 1#if the sets of Ck are part of the dataset, increase the count\n",
    "\t\t\t\t\t\t\t\t\t#in the dictionary, the set is the key in the dictionary\n",
    "\tnumItems = float(len(D))#size of dataset\n",
    "\tretList = []\n",
    "\tsupportData = {}#support values for frequent itemsets\n",
    "\tfor key in ssCnt:#goes over every element in the dictionary and measures the support.\n",
    "\t\tsupport = ssCnt[key] / numItems#support\n",
    "\t\tif support >= minSupport:\n",
    "\t\t\t#print(\"retList:\",retList)\n",
    "\t\t\tretList.insert(0,key)#add the key that meet the min support to retList\n",
    "\t\t\t#print(\"retList_insert:\",retList)\n",
    "\t\tsupportData[key] = support#return supportData\n",
    "\treturn retList, supportData"
   ]
  },
  {
   "cell_type": "code",
   "execution_count": 2,
   "metadata": {},
   "outputs": [
    {
     "name": "stdout",
     "output_type": "stream",
     "text": [
      "[[1, 3, 4], [2, 3, 5], [1, 2, 3, 5], [2, 5]]\n",
      "[frozenset({1}), frozenset({2}), frozenset({3}), frozenset({4}), frozenset({5})]\n",
      "[{1, 3, 4}, {2, 3, 5}, {1, 2, 3, 5}, {2, 5}]\n",
      "[frozenset({5}), frozenset({2}), frozenset({3}), frozenset({1})]\n"
     ]
    }
   ],
   "source": [
    "dataSet = loadDataSet()\n",
    "print(dataSet)\n",
    "C1=createC1(dataSet)\n",
    "print(C1)\n",
    "D = list(map(set,dataSet))\n",
    "print(D)\n",
    "L1,supportData0 = scanD(D,C1,0.5)\n",
    "print(L1)"
   ]
  },
  {
   "cell_type": "code",
   "execution_count": 3,
   "metadata": {},
   "outputs": [],
   "source": [
    "#take a list of freq itemsets Lk and the size of the itemsets k to produce Ck.\n",
    "def aprioriGen(Lk, k):#Lk:frequent itemsets; k:the size of Lk\n",
    "\tretList = []\n",
    "\tlenLk = len(Lk)\n",
    "\tfor i in range(lenLk):\n",
    "\t\tfor j in range(i+1,lenLk):\n",
    "\t\t\tL1 = list(Lk[i])[:k-2]\n",
    "\t\t\tL2 = list(Lk[j])[:k-2]\n",
    "\t\t\tL1.sort()\n",
    "\t\t\tL2.sort()\n",
    "\t\t\tif L1 == L2:\n",
    "\t\t\t\tretList.append(Lk[i] | Lk[j])#combine\n",
    "\treturn retList\n",
    "\n",
    "#give a dataset and a support number then generate a list of candidate itemsets\n",
    "def apriori(dataset, minSupport = 0.5):\n",
    "\tC1 = createC1(dataset)\n",
    "\tD = list(map(set,dataset))\n",
    "\tL1, supportData = scanD(D,C1,minSupport)\n",
    "\tL = [L1]\n",
    "\tk = 2\n",
    "\twhile (len(L[k-2]) > 0):#to find L2,L3,...\n",
    "\t\tCk = aprioriGen(L[k-2], k)\n",
    "\t\tLk, supK = scanD(D,Ck,minSupport)#get Lk from Ck\n",
    "\t\tsupportData.update(supK)\n",
    "\t\tL.append(Lk)\n",
    "\t\tk += 1\n",
    "\treturn L, supportData"
   ]
  },
  {
   "cell_type": "code",
   "execution_count": 4,
   "metadata": {},
   "outputs": [
    {
     "data": {
      "text/plain": [
       "[[frozenset({5}), frozenset({2}), frozenset({3}), frozenset({1})],\n",
       " [frozenset({2, 3}), frozenset({3, 5}), frozenset({2, 5}), frozenset({1, 3})],\n",
       " [frozenset({2, 3, 5})],\n",
       " []]"
      ]
     },
     "execution_count": 4,
     "metadata": {},
     "output_type": "execute_result"
    }
   ],
   "source": [
    "L,supportData = apriori(dataSet)\n",
    "L"
   ]
  },
  {
   "cell_type": "code",
   "execution_count": 5,
   "metadata": {},
   "outputs": [
    {
     "data": {
      "text/plain": [
       "{frozenset({1}): 0.5,\n",
       " frozenset({3}): 0.75,\n",
       " frozenset({4}): 0.25,\n",
       " frozenset({2}): 0.75,\n",
       " frozenset({5}): 0.75,\n",
       " frozenset({1, 3}): 0.5,\n",
       " frozenset({2, 5}): 0.75,\n",
       " frozenset({3, 5}): 0.5,\n",
       " frozenset({2, 3}): 0.5,\n",
       " frozenset({1, 5}): 0.25,\n",
       " frozenset({1, 2}): 0.25,\n",
       " frozenset({2, 3, 5}): 0.5}"
      ]
     },
     "execution_count": 5,
     "metadata": {},
     "output_type": "execute_result"
    }
   ],
   "source": [
    "supportData"
   ]
  },
  {
   "cell_type": "code",
   "execution_count": 6,
   "metadata": {},
   "outputs": [
    {
     "data": {
      "text/plain": [
       "[frozenset({5}), frozenset({2}), frozenset({3}), frozenset({1})]"
      ]
     },
     "execution_count": 6,
     "metadata": {},
     "output_type": "execute_result"
    }
   ],
   "source": [
    "L[0]"
   ]
  },
  {
   "cell_type": "code",
   "execution_count": 7,
   "metadata": {},
   "outputs": [
    {
     "data": {
      "text/plain": [
       "[frozenset({2, 3}), frozenset({3, 5}), frozenset({2, 5}), frozenset({1, 3})]"
      ]
     },
     "execution_count": 7,
     "metadata": {},
     "output_type": "execute_result"
    }
   ],
   "source": [
    "L[1]"
   ]
  },
  {
   "cell_type": "code",
   "execution_count": 8,
   "metadata": {},
   "outputs": [
    {
     "data": {
      "text/plain": [
       "[frozenset({2, 3, 5})]"
      ]
     },
     "execution_count": 8,
     "metadata": {},
     "output_type": "execute_result"
    }
   ],
   "source": [
    "L[2]"
   ]
  },
  {
   "cell_type": "code",
   "execution_count": 9,
   "metadata": {},
   "outputs": [
    {
     "data": {
      "text/plain": [
       "[]"
      ]
     },
     "execution_count": 9,
     "metadata": {},
     "output_type": "execute_result"
    }
   ],
   "source": [
    "L[3]"
   ]
  },
  {
   "cell_type": "code",
   "execution_count": 10,
   "metadata": {},
   "outputs": [
    {
     "data": {
      "text/plain": [
       "[frozenset({2, 5}),\n",
       " frozenset({3, 5}),\n",
       " frozenset({1, 5}),\n",
       " frozenset({2, 3}),\n",
       " frozenset({1, 2}),\n",
       " frozenset({1, 3})]"
      ]
     },
     "execution_count": 10,
     "metadata": {},
     "output_type": "execute_result"
    }
   ],
   "source": [
    "aprioriGen(L[0],2)"
   ]
  },
  {
   "cell_type": "code",
   "execution_count": 11,
   "metadata": {},
   "outputs": [
    {
     "data": {
      "text/plain": [
       "[[frozenset({5}), frozenset({2}), frozenset({3})], [frozenset({2, 5})], []]"
      ]
     },
     "execution_count": 11,
     "metadata": {},
     "output_type": "execute_result"
    }
   ],
   "source": [
    "L,supportData = apriori(dataSet,minSupport = 0.7)\n",
    "L"
   ]
  },
  {
   "cell_type": "code",
   "execution_count": 12,
   "metadata": {},
   "outputs": [
    {
     "data": {
      "text/plain": [
       "{frozenset({1}): 0.5,\n",
       " frozenset({3}): 0.75,\n",
       " frozenset({4}): 0.25,\n",
       " frozenset({2}): 0.75,\n",
       " frozenset({5}): 0.75,\n",
       " frozenset({2, 5}): 0.75,\n",
       " frozenset({3, 5}): 0.5,\n",
       " frozenset({2, 3}): 0.5}"
      ]
     },
     "execution_count": 12,
     "metadata": {},
     "output_type": "execute_result"
    }
   ],
   "source": [
    "supportData"
   ]
  },
  {
   "cell_type": "code",
   "execution_count": 13,
   "metadata": {},
   "outputs": [
    {
     "data": {
      "text/plain": [
       "[]"
      ]
     },
     "execution_count": 13,
     "metadata": {},
     "output_type": "execute_result"
    }
   ],
   "source": [
    "aprioriGen(L[0],3)"
   ]
  },
  {
   "cell_type": "code",
   "execution_count": 14,
   "metadata": {},
   "outputs": [
    {
     "data": {
      "text/plain": [
       "[frozenset({2, 5}), frozenset({3, 5}), frozenset({2, 3})]"
      ]
     },
     "execution_count": 14,
     "metadata": {},
     "output_type": "execute_result"
    }
   ],
   "source": [
    "aprioriGen(L[0],1)"
   ]
  },
  {
   "cell_type": "code",
   "execution_count": 15,
   "metadata": {},
   "outputs": [
    {
     "data": {
      "text/plain": [
       "[frozenset({2, 5}), frozenset({3, 5}), frozenset({2, 3})]"
      ]
     },
     "execution_count": 15,
     "metadata": {},
     "output_type": "execute_result"
    }
   ],
   "source": [
    "aprioriGen(L[0],0)"
   ]
  },
  {
   "cell_type": "code",
   "execution_count": 16,
   "metadata": {},
   "outputs": [],
   "source": [
    "#generate a list of rules with confidence values\n",
    "#three inputs:\n",
    "#L: a list of freq itemsets\n",
    "#supportData: a dictionary of support data for the itemsets\n",
    "#minConf: a minimum confidence threshold\n",
    "def generateRules(L, supportData, minConf = 0.7):\n",
    "\tbigRuleList = []#store the rules\n",
    "\tfor i in range(1, len(L)):\n",
    "\t\tfor freqSet in L[i]:#loop over every freq itemset in L and create a list of single-item sets\n",
    "\t\t\tH1 = [frozenset([item]) for item in freqSet]#H1 for each freq itemset\n",
    "\t\t\tif (i > 1):#get only sets with two or more items for merging\n",
    "\t\t\t\trulesFromConseq(freqSet, H1, supportData, bigRuleList,minConf)\n",
    "\t\t\telse:#calculate the confidence\n",
    "\t\t\t\tcalcConf(freqSet, H1, supportData, bigRuleList, minConf)\n",
    "\treturn bigRuleList\n",
    "\n",
    "#calculate the confidence and find out which rules meet the min confidence\n",
    "def calcConf(freqSet, H, supportData, brl, minConf = 0.7):\n",
    "\tprunedH = []#list for the rules that meet the min confidence\n",
    "\tfor conseq in H:#iterate over all the itemsets in H and calculate the conf\n",
    "\t\tconf = supportData[freqSet] / supportData[freqSet - conseq]#calc conf\n",
    "\t\tif conf >= minConf:#check meet or not\n",
    "\t\t\tprint(freqSet - conseq,'-->',conseq,'conf:',conf)#display if meet min conf\n",
    "\t\t\tbrl.append((freqSet - conseq,conseq,conf))\n",
    "\t\t\tprunedH.append(conseq)\n",
    "\treturn prunedH\n",
    "\n",
    "#merging\n",
    "def rulesFromConseq(freqSet, H, supportData, brl, minConf = 0.7):\n",
    "\tm = len(H[0])#the size of the itemsets in H\n",
    "\tif (len(freqSet) > (m + 1)):#if the freq set is large enough to have subsets of size m removed\n",
    "\t\tHmp1 = aprioriGen(H, m + 1)#generate combinations of the items in H without repeating and stored in Hmp1\n",
    "\t\tHmp1 = calcConf(freqSet, Hmp1, supportData, brl, minConf)#Hmp1 holds all the possible rules\n"
   ]
  },
  {
   "cell_type": "code",
   "execution_count": 17,
   "metadata": {},
   "outputs": [
    {
     "name": "stdout",
     "output_type": "stream",
     "text": [
      "frozenset({5}) --> frozenset({2}) conf: 1.0\n",
      "frozenset({2}) --> frozenset({5}) conf: 1.0\n",
      "frozenset({1}) --> frozenset({3}) conf: 1.0\n"
     ]
    },
    {
     "data": {
      "text/plain": [
       "[[frozenset({5}), frozenset({2}), frozenset({3}), frozenset({1})],\n",
       " [frozenset({2, 3}), frozenset({3, 5}), frozenset({2, 5}), frozenset({1, 3})],\n",
       " [frozenset({2, 3, 5})],\n",
       " []]"
      ]
     },
     "execution_count": 17,
     "metadata": {},
     "output_type": "execute_result"
    }
   ],
   "source": [
    "L,suppData=apriori(dataSet,minSupport = 0.5)\n",
    "rules = generateRules(L,suppData,minConf = 0.7)\n",
    "L"
   ]
  },
  {
   "cell_type": "code",
   "execution_count": 18,
   "metadata": {},
   "outputs": [
    {
     "data": {
      "text/plain": [
       "[(frozenset({5}), frozenset({2}), 1.0),\n",
       " (frozenset({2}), frozenset({5}), 1.0),\n",
       " (frozenset({1}), frozenset({3}), 1.0)]"
      ]
     },
     "execution_count": 18,
     "metadata": {},
     "output_type": "execute_result"
    }
   ],
   "source": [
    "rules"
   ]
  },
  {
   "cell_type": "code",
   "execution_count": 19,
   "metadata": {},
   "outputs": [
    {
     "name": "stdout",
     "output_type": "stream",
     "text": [
      "frozenset({3}) --> frozenset({2}) conf: 0.6666666666666666\n",
      "frozenset({2}) --> frozenset({3}) conf: 0.6666666666666666\n",
      "frozenset({5}) --> frozenset({3}) conf: 0.6666666666666666\n",
      "frozenset({3}) --> frozenset({5}) conf: 0.6666666666666666\n",
      "frozenset({5}) --> frozenset({2}) conf: 1.0\n",
      "frozenset({2}) --> frozenset({5}) conf: 1.0\n",
      "frozenset({3}) --> frozenset({1}) conf: 0.6666666666666666\n",
      "frozenset({1}) --> frozenset({3}) conf: 1.0\n",
      "frozenset({5}) --> frozenset({2, 3}) conf: 0.6666666666666666\n",
      "frozenset({3}) --> frozenset({2, 5}) conf: 0.6666666666666666\n",
      "frozenset({2}) --> frozenset({3, 5}) conf: 0.6666666666666666\n"
     ]
    },
    {
     "data": {
      "text/plain": [
       "[(frozenset({3}), frozenset({2}), 0.6666666666666666),\n",
       " (frozenset({2}), frozenset({3}), 0.6666666666666666),\n",
       " (frozenset({5}), frozenset({3}), 0.6666666666666666),\n",
       " (frozenset({3}), frozenset({5}), 0.6666666666666666),\n",
       " (frozenset({5}), frozenset({2}), 1.0),\n",
       " (frozenset({2}), frozenset({5}), 1.0),\n",
       " (frozenset({3}), frozenset({1}), 0.6666666666666666),\n",
       " (frozenset({1}), frozenset({3}), 1.0),\n",
       " (frozenset({5}), frozenset({2, 3}), 0.6666666666666666),\n",
       " (frozenset({3}), frozenset({2, 5}), 0.6666666666666666),\n",
       " (frozenset({2}), frozenset({3, 5}), 0.6666666666666666)]"
      ]
     },
     "execution_count": 19,
     "metadata": {},
     "output_type": "execute_result"
    }
   ],
   "source": [
    "rules = generateRules(L,suppData,minConf = 0.5)\n",
    "rules"
   ]
  },
  {
   "cell_type": "markdown",
   "metadata": {},
   "source": [
    "### 示例：发现毒蘑菇的相似特征"
   ]
  },
  {
   "cell_type": "code",
   "execution_count": 20,
   "metadata": {},
   "outputs": [
    {
     "name": "stdout",
     "output_type": "stream",
     "text": [
      "frozenset({'2'})\n"
     ]
    }
   ],
   "source": [
    "mushDatSet = [line.split() for line in open('E:\\\\python\\\\machinelearning\\\\MLDownloads\\\\machinelearninginaction\\\\Ch11\\\\mushroom.dat').readlines()]\n",
    "Lm,msupportData = apriori(mushDatSet,minSupport = 0.3)\n",
    "for item in Lm[0]:\n",
    "\tif item.intersection('2'):# find intersection('2') in Lm[0]\n",
    "\t\tprint(item)"
   ]
  },
  {
   "cell_type": "code",
   "execution_count": 21,
   "metadata": {},
   "outputs": [
    {
     "name": "stdout",
     "output_type": "stream",
     "text": [
      "frozenset({'28', '2'})\n",
      "frozenset({'2', '53'})\n",
      "frozenset({'2', '23'})\n",
      "frozenset({'2', '34'})\n",
      "frozenset({'2', '36'})\n",
      "frozenset({'2', '59'})\n",
      "frozenset({'2', '63'})\n",
      "frozenset({'2', '67'})\n",
      "frozenset({'2', '76'})\n",
      "frozenset({'2', '85'})\n",
      "frozenset({'2', '86'})\n",
      "frozenset({'2', '90'})\n",
      "frozenset({'93', '2'})\n",
      "frozenset({'2', '39'})\n"
     ]
    }
   ],
   "source": [
    "for item in Lm[1]:\n",
    "\tif item.intersection('2'):\n",
    "\t\tprint(item)"
   ]
  },
  {
   "cell_type": "code",
   "execution_count": 22,
   "metadata": {},
   "outputs": [
    {
     "name": "stdout",
     "output_type": "stream",
     "text": [
      "frozenset({'28', '59', '2', '34'})\n",
      "frozenset({'28', '2', '34', '63'})\n",
      "frozenset({'28', '85', '2', '34'})\n",
      "frozenset({'28', '86', '2', '34'})\n",
      "frozenset({'28', '90', '2', '34'})\n",
      "frozenset({'28', '2', '34', '39'})\n",
      "frozenset({'28', '2', '34', '53'})\n",
      "frozenset({'28', '59', '2', '63'})\n",
      "frozenset({'28', '85', '59', '2'})\n",
      "frozenset({'28', '85', '2', '63'})\n",
      "frozenset({'28', '90', '85', '2'})\n",
      "frozenset({'28', '85', '2', '39'})\n",
      "frozenset({'28', '85', '2', '53'})\n",
      "frozenset({'28', '86', '59', '2'})\n",
      "frozenset({'28', '86', '2', '63'})\n",
      "frozenset({'28', '86', '85', '2'})\n",
      "frozenset({'28', '90', '86', '2'})\n",
      "frozenset({'28', '86', '2', '39'})\n",
      "frozenset({'28', '86', '2', '53'})\n",
      "frozenset({'28', '90', '59', '2'})\n",
      "frozenset({'28', '90', '2', '39'})\n",
      "frozenset({'28', '59', '2', '39'})\n",
      "frozenset({'63', '28', '2', '39'})\n",
      "frozenset({'28', '90', '2', '53'})\n",
      "frozenset({'28', '2', '53', '39'})\n",
      "frozenset({'85', '2', '34', '53'})\n",
      "frozenset({'86', '2', '34', '53'})\n",
      "frozenset({'90', '2', '34', '53'})\n",
      "frozenset({'2', '34', '53', '39'})\n",
      "frozenset({'90', '85', '2', '53'})\n",
      "frozenset({'85', '2', '53', '39'})\n",
      "frozenset({'86', '85', '2', '53'})\n",
      "frozenset({'90', '86', '2', '53'})\n",
      "frozenset({'86', '2', '53', '39'})\n",
      "frozenset({'90', '2', '53', '39'})\n",
      "frozenset({'59', '2', '23', '63'})\n",
      "frozenset({'59', '2', '23', '39'})\n",
      "frozenset({'63', '2', '23', '39'})\n",
      "frozenset({'2', '34', '36', '23'})\n",
      "frozenset({'59', '2', '34', '23'})\n",
      "frozenset({'59', '2', '34', '36'})\n",
      "frozenset({'2', '34', '23', '63'})\n",
      "frozenset({'2', '34', '36', '63'})\n",
      "frozenset({'59', '2', '34', '63'})\n",
      "frozenset({'85', '2', '34', '23'})\n",
      "frozenset({'85', '2', '34', '36'})\n",
      "frozenset({'85', '59', '2', '34'})\n",
      "frozenset({'85', '2', '34', '63'})\n",
      "frozenset({'85', '2', '34', '67'})\n",
      "frozenset({'85', '2', '34', '76'})\n",
      "frozenset({'86', '2', '34', '23'})\n",
      "frozenset({'86', '2', '34', '36'})\n",
      "frozenset({'86', '59', '2', '34'})\n",
      "frozenset({'86', '2', '34', '63'})\n",
      "frozenset({'86', '2', '34', '67'})\n",
      "frozenset({'86', '2', '34', '76'})\n",
      "frozenset({'86', '85', '2', '34'})\n",
      "frozenset({'90', '2', '34', '23'})\n",
      "frozenset({'90', '2', '34', '36'})\n",
      "frozenset({'90', '59', '2', '34'})\n",
      "frozenset({'90', '2', '34', '63'})\n",
      "frozenset({'90', '85', '2', '34'})\n",
      "frozenset({'90', '86', '2', '34'})\n",
      "frozenset({'2', '34', '23', '39'})\n",
      "frozenset({'2', '34', '36', '39'})\n",
      "frozenset({'59', '2', '34', '39'})\n",
      "frozenset({'63', '2', '34', '39'})\n",
      "frozenset({'2', '34', '67', '39'})\n",
      "frozenset({'2', '34', '76', '39'})\n",
      "frozenset({'85', '2', '34', '39'})\n",
      "frozenset({'86', '2', '34', '39'})\n",
      "frozenset({'90', '2', '34', '39'})\n",
      "frozenset({'59', '2', '36', '23'})\n",
      "frozenset({'2', '36', '23', '63'})\n",
      "frozenset({'59', '2', '36', '63'})\n",
      "frozenset({'85', '2', '36', '23'})\n",
      "frozenset({'86', '2', '36', '23'})\n",
      "frozenset({'90', '59', '2', '36'})\n",
      "frozenset({'90', '2', '36', '63'})\n",
      "frozenset({'2', '36', '23', '39'})\n",
      "frozenset({'59', '2', '36', '39'})\n",
      "frozenset({'63', '2', '36', '39'})\n",
      "frozenset({'90', '2', '36', '39'})\n",
      "frozenset({'85', '59', '2', '23'})\n",
      "frozenset({'85', '59', '2', '36'})\n",
      "frozenset({'86', '59', '2', '23'})\n",
      "frozenset({'86', '59', '2', '36'})\n",
      "frozenset({'90', '59', '2', '23'})\n",
      "frozenset({'85', '2', '23', '63'})\n",
      "frozenset({'85', '2', '36', '63'})\n",
      "frozenset({'85', '59', '2', '63'})\n",
      "frozenset({'86', '2', '23', '63'})\n",
      "frozenset({'86', '2', '36', '63'})\n",
      "frozenset({'86', '59', '2', '63'})\n",
      "frozenset({'90', '59', '2', '63'})\n",
      "frozenset({'63', '59', '2', '39'})\n",
      "frozenset({'86', '85', '2', '23'})\n",
      "frozenset({'86', '85', '2', '36'})\n",
      "frozenset({'86', '85', '59', '2'})\n",
      "frozenset({'86', '85', '2', '63'})\n",
      "frozenset({'86', '85', '2', '67'})\n",
      "frozenset({'86', '85', '2', '76'})\n",
      "frozenset({'90', '85', '2', '23'})\n",
      "frozenset({'90', '85', '2', '36'})\n",
      "frozenset({'90', '85', '59', '2'})\n",
      "frozenset({'90', '85', '2', '63'})\n",
      "frozenset({'85', '2', '23', '39'})\n",
      "frozenset({'85', '2', '36', '39'})\n",
      "frozenset({'85', '59', '2', '39'})\n",
      "frozenset({'63', '85', '2', '39'})\n",
      "frozenset({'85', '2', '67', '39'})\n",
      "frozenset({'85', '2', '76', '39'})\n",
      "frozenset({'90', '85', '2', '39'})\n",
      "frozenset({'90', '86', '2', '23'})\n",
      "frozenset({'90', '86', '2', '36'})\n",
      "frozenset({'90', '86', '59', '2'})\n",
      "frozenset({'90', '86', '2', '63'})\n",
      "frozenset({'90', '86', '85', '2'})\n",
      "frozenset({'86', '2', '23', '39'})\n",
      "frozenset({'86', '2', '36', '39'})\n",
      "frozenset({'86', '59', '2', '39'})\n",
      "frozenset({'63', '86', '2', '39'})\n",
      "frozenset({'86', '2', '67', '39'})\n",
      "frozenset({'86', '2', '76', '39'})\n",
      "frozenset({'86', '85', '2', '39'})\n",
      "frozenset({'90', '86', '2', '39'})\n",
      "frozenset({'90', '59', '2', '39'})\n",
      "frozenset({'63', '90', '2', '39'})\n",
      "frozenset({'93', '2', '23', '39'})\n",
      "frozenset({'93', '2', '34', '39'})\n",
      "frozenset({'93', '2', '34', '23'})\n",
      "frozenset({'93', '2', '36', '39'})\n",
      "frozenset({'93', '2', '36', '23'})\n",
      "frozenset({'93', '2', '34', '36'})\n",
      "frozenset({'93', '59', '2', '39'})\n",
      "frozenset({'93', '59', '2', '23'})\n",
      "frozenset({'93', '59', '2', '34'})\n",
      "frozenset({'93', '59', '2', '36'})\n",
      "frozenset({'39', '93', '2', '63'})\n",
      "frozenset({'93', '2', '34', '63'})\n",
      "frozenset({'93', '2', '36', '63'})\n",
      "frozenset({'93', '59', '2', '63'})\n",
      "frozenset({'93', '85', '2', '39'})\n",
      "frozenset({'93', '85', '2', '23'})\n",
      "frozenset({'93', '85', '2', '34'})\n",
      "frozenset({'93', '85', '2', '36'})\n",
      "frozenset({'93', '85', '59', '2'})\n",
      "frozenset({'93', '85', '2', '63'})\n",
      "frozenset({'93', '86', '2', '39'})\n",
      "frozenset({'93', '86', '2', '23'})\n",
      "frozenset({'93', '86', '2', '34'})\n",
      "frozenset({'93', '86', '2', '36'})\n",
      "frozenset({'93', '86', '59', '2'})\n",
      "frozenset({'93', '86', '2', '63'})\n",
      "frozenset({'93', '86', '85', '2'})\n",
      "frozenset({'93', '90', '2', '39'})\n",
      "frozenset({'93', '90', '2', '23'})\n",
      "frozenset({'93', '90', '2', '34'})\n",
      "frozenset({'93', '90', '2', '36'})\n",
      "frozenset({'93', '90', '59', '2'})\n",
      "frozenset({'93', '90', '2', '63'})\n",
      "frozenset({'93', '90', '85', '2'})\n",
      "frozenset({'93', '90', '86', '2'})\n"
     ]
    }
   ],
   "source": [
    "for item in Lm[3]:\n",
    "\tif item.intersection('2'):\n",
    "\t\tprint(item)"
   ]
  },
  {
   "cell_type": "code",
   "execution_count": null,
   "metadata": {},
   "outputs": [],
   "source": []
  }
 ],
 "metadata": {
  "kernelspec": {
   "display_name": "Python 3",
   "language": "python",
   "name": "python3"
  },
  "language_info": {
   "codemirror_mode": {
    "name": "ipython",
    "version": 3
   },
   "file_extension": ".py",
   "mimetype": "text/x-python",
   "name": "python",
   "nbconvert_exporter": "python",
   "pygments_lexer": "ipython3",
   "version": "3.6.5"
  }
 },
 "nbformat": 4,
 "nbformat_minor": 2
}
